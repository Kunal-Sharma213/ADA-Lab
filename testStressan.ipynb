{
 "cells": [
  {
   "cell_type": "code",
   "execution_count": 19,
   "id": "b8ca1b2f",
   "metadata": {},
   "outputs": [],
   "source": [
    "def split(mat):\n",
    "    m = len(mat)\n",
    "    n = len(mat[0])\n",
    "    return mat[:m//2, :n//2], mat[:m//2, n//2:], mat[m//2:, :n//2], mat[m//2:, n//2:]"
   ]
  },
  {
   "cell_type": "code",
   "execution_count": 58,
   "id": "d992e844",
   "metadata": {},
   "outputs": [],
   "source": [
    "def strassen1(mat_1, mat_2):\n",
    "\n",
    "    if(len(mat_1) == 1):\n",
    "        return mat_1 * mat_2\n",
    "    a11, a12, a21, a22 = split(mat_1)\n",
    "    b11, b12, b21, b22 = split(mat_2)\n",
    "    p = strassen1(a11 + a22, b11 + b22)\n",
    "    q = strassen1(a21 + a22, b11)\n",
    "    r = strassen1(a11, b12 - b22)\n",
    "    s = strassen1(a22, b21 - b11)\n",
    "    t = strassen1(a11 + a12, b22)\n",
    "    u = strassen1(a21 - a11, b11 + b12)\n",
    "    v = strassen1(a12 - a22, a21 + b22)\n",
    "    \n",
    "    c11 = p + q - t + v\n",
    "    c12 = r + t\n",
    "    c21 = q + s\n",
    "    c22 = p + r - q - u\n",
    "    \n",
    "    return np.vstack((np.hstack((c11, c12)), np.hstack((c21, c22))))"
   ]
  },
  {
   "cell_type": "code",
   "execution_count": 59,
   "id": "0b2424e2",
   "metadata": {},
   "outputs": [],
   "source": [
    "import numpy as np"
   ]
  },
  {
   "cell_type": "code",
   "execution_count": null,
   "id": "71ee111d",
   "metadata": {},
   "outputs": [],
   "source": []
  },
  {
   "cell_type": "code",
   "execution_count": null,
   "id": "0c25f0b7",
   "metadata": {},
   "outputs": [],
   "source": []
  },
  {
   "cell_type": "code",
   "execution_count": 60,
   "id": "202fad40",
   "metadata": {},
   "outputs": [],
   "source": [
    "#do n^3\n",
    "\n",
    "# Version 3.6\n",
    "\n",
    "import numpy as np\n",
    "\n",
    "def split(matrix):\n",
    "\t\"\"\"\n",
    "\tSplits a given matrix into quarters.\n",
    "\tInput: nxn matrix\n",
    "\tOutput: tuple containing 4 n/2 x n/2 matrices corresponding to a, b, c, d\n",
    "\t\"\"\"\n",
    "\trow, col = len(matrix), len(matrix[0])\n",
    "\trow2, col2 = row//2, col//2\n",
    "\treturn matrix[:row2, :col2], matrix[:row2, col2:], matrix[row2:, :col2], matrix[row2:, col2:]\n",
    "\n",
    "def strassen2(x, y):\n",
    "\t\"\"\"\n",
    "\tComputes matrix product by divide and conquer approach, recursively.\n",
    "\tInput: nxn matrices x and y\n",
    "\tOutput: nxn matrix, product of x and y\n",
    "\t\"\"\"\n",
    "\n",
    "\t# Base case when size of matrices is 1x1\n",
    "\tif len(x) == 1:\n",
    "\t\treturn x * y\n",
    "\n",
    "\t# Splitting the matrices into quadrants. This will be done recursively\n",
    "\t# until the base case is reached.\n",
    "\ta11, a12, a21, a22 = split(x)\n",
    "\tb11, b12, b21, b22 = split(y)\n",
    "\n",
    "\t# Computing the 7 products, recursively (p1, p2...p7)\n",
    "\tp = strassen2(a11, b12 - b22)\n",
    "\tq = strassen2(a11 + a12, b22)\t\n",
    "\tr = strassen2(a21 + a22, b11)\t\n",
    "\ts = strassen2(a22, b21 - b11)\t\n",
    "\tt = strassen2(a11 + a22, b11 + b22)\t\n",
    "\tu = strassen2(a12 - a22, b21 + b22)\n",
    "\tv = strassen2(a11 - a21, b11 + b12)\n",
    "\n",
    "\t# Computing the values of the 4 quadrants of the final matrix c\n",
    "\tc11 = t + s - q + u\n",
    "\tc12 = p + q\t\t\n",
    "\tc21 = r + s\t\t\n",
    "\tc22 = p + t - r - v\n",
    "\n",
    "\t# Combining the 4 quadrants into a single matrix by stacking horizontally and vertically.\n",
    "\tc = np.vstack((np.hstack((c11, c12)), np.hstack((c21, c22))))\n",
    "\n",
    "\treturn c\n"
   ]
  },
  {
   "cell_type": "code",
   "execution_count": 61,
   "id": "f57e8962",
   "metadata": {},
   "outputs": [
    {
     "name": "stdout",
     "output_type": "stream",
     "text": [
      "[[60 36 32 14]\n",
      " [56 24 28  4]\n",
      " [70 42 28  2]\n",
      " [56 32 16 -8]]\n"
     ]
    }
   ],
   "source": [
    "mat_1 =np.array([[1,1,1,1],[2,2,2,2],[3,3,3,3],[4,4,4,4]])\n",
    "mat_2 = np.array([[2,2,2,2],[3,3,3,3],[4,4,4,4],[5,5,5,5]])\n",
    "print(strassen1(mat_1, mat_2))"
   ]
  },
  {
   "cell_type": "code",
   "execution_count": null,
   "id": "40ecd5cd",
   "metadata": {},
   "outputs": [],
   "source": []
  },
  {
   "cell_type": "code",
   "execution_count": null,
   "id": "8f00c923",
   "metadata": {},
   "outputs": [],
   "source": []
  }
 ],
 "metadata": {
  "interpreter": {
   "hash": "e0c391e3966a56fdad5218290aa0b4e5ba8172c67166a5a9fb2af5a8db047a3c"
  },
  "kernelspec": {
   "display_name": "Python 3.9 (env)",
   "language": "python",
   "name": "python3"
  },
  "language_info": {
   "codemirror_mode": {
    "name": "ipython",
    "version": 3
   },
   "file_extension": ".py",
   "mimetype": "text/x-python",
   "name": "python",
   "nbconvert_exporter": "python",
   "pygments_lexer": "ipython3",
   "version": "3.9.7"
  }
 },
 "nbformat": 4,
 "nbformat_minor": 5
}
