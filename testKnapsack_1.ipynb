{
 "cells": [
  {
   "cell_type": "code",
   "execution_count": 1,
   "metadata": {},
   "outputs": [],
   "source": [
    "import numpy as np\n",
    "import pandas as pd"
   ]
  },
  {
   "cell_type": "code",
   "execution_count": 2,
   "metadata": {},
   "outputs": [],
   "source": [
    "ans_dp = [10291,\n",
    "7500,\n",
    "11000,\n",
    "3000,\n",
    "44333,\n",
    "57250,\n",
    "40166,\n",
    "46792,\n",
    "15208,\n",
    "90292,\n",
    "82875,\n",
    "44958,\n",
    "57417,\n",
    "30667,\n",
    "117750,\n",
    "92625,\n",
    "126708,\n",
    "153500,\n",
    "41958,\n",
    "69292,\n",
    "138500,\n",
    "152834,\n",
    "22291,\n",
    "138750,\n",
    "33625,\n",
    "164792,\n",
    "232000,\n",
    "162834,\n",
    "344000,\n",
    "20250,\n",
    "191000,\n",
    "57417,\n",
    "21916,\n",
    "306667,\n",
    "42000,\n",
    "27500,\n",
    "203125,\n",
    "291875,\n",
    "292250,\n",
    "196375,\n",
    "316625,\n",
    "53333,\n",
    "348125,\n",
    "267916,\n",
    "454750,\n",
    "124750,\n",
    "325791,\n",
    "212250,\n",
    "311333,\n",
    "246542,\n",
    "]"
   ]
  },
  {
   "cell_type": "code",
   "execution_count": 9,
   "metadata": {},
   "outputs": [],
   "source": [
    "ans_rec = [209,\n",
    "250,\n",
    "250,\n",
    "625,\n",
    "917,\n",
    "1083,\n",
    "1084,\n",
    "3042,\n",
    "3292,\n",
    "4458,\n",
    "6375,\n",
    "8375,\n",
    "8958,\n",
    "4916,\n",
    "11333,\n",
    "11333,\n",
    "46459,\n",
    "49958,\n",
    "23875,\n",
    "19708,\n",
    "23417,\n",
    "21708,\n",
    "74708,\n",
    "113625,\n",
    "66375,\n",
    "67834,\n",
    "452500,\n",
    "516792,\n",
    "123208,\n",
    "353833,\n",
    "263458,\n",
    "139875,\n",
    "37750,\n",
    "409708,\n",
    "291083,\n",
    "107750,\n",
    "426083,\n",
    "336125,\n",
    "715583,\n",
    "1569208,\n",
    "795667,\n",
    "513875,\n",
    "295125,\n",
    "484667,\n",
    "507583,\n",
    "451792,\n",
    "326750,\n",
    "264708,\n",
    "5786541,\n",
    "6786541,\n",
    "]"
   ]
  },
  {
   "cell_type": "code",
   "execution_count": 10,
   "metadata": {},
   "outputs": [
    {
     "data": {
      "text/plain": [
       "<AxesSubplot:>"
      ]
     },
     "execution_count": 10,
     "metadata": {},
     "output_type": "execute_result"
    },
    {
     "data": {
      "image/png": "[encoded data removed]",
      "text/plain": [
       "<Figure size 432x288 with 1 Axes>"
      ]
     },
     "metadata": {
      "needs_background": "light"
     },
     "output_type": "display_data"
    }
   ],
   "source": [
    "\n",
    "df = pd.DataFrame({'dp': ans_dp, 'rec': ans_rec})\n",
    "df.plot()"
   ]
  },
  {
   "cell_type": "code",
   "execution_count": null,
   "metadata": {},
   "outputs": [],
   "source": []
  }
 ],
 "metadata": {
  "interpreter": {
   "hash": "e0c391e3966a56fdad5218290aa0b4e5ba8172c67166a5a9fb2af5a8db047a3c"
  },
  "kernelspec": {
   "display_name": "Python 3.9.7",
   "language": "python",
   "name": "python3"
  },
  "language_info": {
   "codemirror_mode": {
    "name": "ipython",
    "version": 3
   },
   "file_extension": ".py",
   "mimetype": "text/x-python",
   "name": "python",
   "nbconvert_exporter": "python",
   "pygments_lexer": "ipython3",
   "version": "3.9.7"
  },
  "orig_nbformat": 4
 },
 "nbformat": 4,
 "nbformat_minor": 2
}
