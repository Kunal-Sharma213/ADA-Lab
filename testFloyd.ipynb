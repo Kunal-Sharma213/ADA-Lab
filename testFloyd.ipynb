{
 "cells": [
  {
   "cell_type": "code",
   "execution_count": 1,
   "metadata": {},
   "outputs": [],
   "source": [
    "from numpy.random import randint\n",
    "import pandas as pd"
   ]
  },
  {
   "cell_type": "code",
   "execution_count": 2,
   "metadata": {},
   "outputs": [],
   "source": [
    "test_cases = []\n",
    "prev = 1\n",
    "for i in range(0, 30):\n",
    "    s = ''\n",
    "    n = i + 3\n",
    "    m = int((n * (n-1))//2)\n",
    "    mm = prev + 1\n",
    "    prev = mm\n",
    "    s += str(n) + ' ' + str(mm) + '\\n'\n",
    "    for i in range(mm):\n",
    "        x = randint(0, n-1)\n",
    "        y = randint(0,n-1)\n",
    "        w = randint(10,50)\n",
    "\n",
    "        while y == x:\n",
    "            y = randint(0,n-1)\n",
    "        s += str(x) + ' ' + str(y) + ' ' + str(w) + '\\n'\n",
    "    test_cases.append(s)"
   ]
  },
  {
   "cell_type": "code",
   "execution_count": 3,
   "metadata": {},
   "outputs": [],
   "source": [
    "with open('floyd.txt', 'w') as f:\n",
    "    for test in test_cases:\n",
    "        f.write(test)"
   ]
  },
  {
   "cell_type": "code",
   "execution_count": 4,
   "metadata": {},
   "outputs": [],
   "source": [
    "ans = [3292,\n",
    "4334,\n",
    "6125,\n",
    "8625,\n",
    "11459,\n",
    "14708,\n",
    "20292,\n",
    "25292,\n",
    "46042,\n",
    "39125,\n",
    "43916,\n",
    "58042,\n",
    "77917,\n",
    "90625,\n",
    "97083,\n",
    "110958,\n",
    "133459,\n",
    "150625,\n",
    "175708,\n",
    "172875,\n",
    "188958,\n",
    "205333,\n",
    "245916,\n",
    "265042,\n",
    "282125,\n",
    "301208,\n",
    "351167,\n",
    "378291,\n",
    "414625,\n",
    "513625,\n",
    "]"
   ]
  },
  {
   "cell_type": "code",
   "execution_count": 5,
   "metadata": {},
   "outputs": [
    {
     "data": {
      "text/plain": [
       "<AxesSubplot:>"
      ]
     },
     "execution_count": 5,
     "metadata": {},
     "output_type": "execute_result"
    },
    {
     "data": {
      "image/png": "[encoded data removed]",
      "text/plain": [
       "<Figure size 432x288 with 1 Axes>"
      ]
     },
     "metadata": {
      "needs_background": "light"
     },
     "output_type": "display_data"
    }
   ],
   "source": [
    "df = pd.DataFrame({'time':ans})\n",
    "df.plot()"
   ]
  },
  {
   "cell_type": "code",
   "execution_count": null,
   "metadata": {},
   "outputs": [],
   "source": []
  }
 ],
 "metadata": {
  "interpreter": {
   "hash": "e0c391e3966a56fdad5218290aa0b4e5ba8172c67166a5a9fb2af5a8db047a3c"
  },
  "kernelspec": {
   "display_name": "Python 3.9.7",
   "language": "python",
   "name": "python3"
  },
  "language_info": {
   "codemirror_mode": {
    "name": "ipython",
    "version": 3
   },
   "file_extension": ".py",
   "mimetype": "text/x-python",
   "name": "python",
   "nbconvert_exporter": "python",
   "pygments_lexer": "ipython3",
   "version": "3.9.7"
  },
  "orig_nbformat": 4
 },
 "nbformat": 4,
 "nbformat_minor": 2
}
