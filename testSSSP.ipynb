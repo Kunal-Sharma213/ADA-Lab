{
 "cells": [
  {
   "cell_type": "code",
   "execution_count": 5,
   "id": "3c43a533",
   "metadata": {},
   "outputs": [],
   "source": [
    "import numpy as np\n",
    "import pandas as pd\n",
    "import random"
   ]
  },
  {
   "cell_type": "code",
   "execution_count": 12,
   "id": "c4428877",
   "metadata": {},
   "outputs": [],
   "source": [
    "test_cases = []\n",
    "prev = 1\n",
    "for i in range(3,21):\n",
    "    cases = []\n",
    "    s = ''\n",
    "    s += str(i) + ' '\n",
    "    mn = (i * (i-1))//2\n",
    "    m = random.randint(prev, mn)\n",
    "    s += str(m) + '\\n'\n",
    "    for _ in range(m):\n",
    "        x = random.randint(0,i - 1)\n",
    "        y = random.randint(0,i - 1)\n",
    "        while ((x,y) in cases or x == y):\n",
    "            x = random.randint(0,i-1)\n",
    "            y = random.randint(0,i-1)\n",
    "        cases.append((x,y))\n",
    "        # while(y == x):\n",
    "        #     y = random.randint(0,i - 1)\n",
    "        w = random.randint(1,20)\n",
    "        s += str(x) + ' ' + str(y) + ' ' + str(w) + '\\n'\n",
    "    sr = random.randint(0,i-1)\n",
    "    s += str(sr) + '\\n'\n",
    "    test_cases.append(s)\n"
   ]
  },
  {
   "cell_type": "code",
   "execution_count": 13,
   "id": "924b7dcd",
   "metadata": {},
   "outputs": [],
   "source": [
    "\n",
    "with open('sssp.txt', 'w') as f:\n",
    "    for test in test_cases:\n",
    "        f.write(test)"
   ]
  },
  {
   "cell_type": "code",
   "execution_count": 18,
   "id": "b53c71e7",
   "metadata": {},
   "outputs": [],
   "source": [
    "ans = [\n",
    "2000,\n",
    "1958,\n",
    "2041,\n",
    "2000,\n",
    "2084,\n",
    "2125,\n",
    "2125,\n",
    "2208,\n",
    "2167,\n",
    "2208,\n",
    "2334,\n",
    "2333,\n",
    "2250,\n",
    "2333,\n",
    "2500,\n",
    "2459,\n",
    "]"
   ]
  },
  {
   "cell_type": "code",
   "execution_count": 19,
   "id": "95145bd3",
   "metadata": {},
   "outputs": [
    {
     "data": {
      "text/plain": [
       "<AxesSubplot:>"
      ]
     },
     "execution_count": 19,
     "metadata": {},
     "output_type": "execute_result"
    },
    {
     "data": {
      "image/png": "[encoded data removed]",
      "text/plain": [
       "<Figure size 432x288 with 1 Axes>"
      ]
     },
     "metadata": {
      "needs_background": "light"
     },
     "output_type": "display_data"
    }
   ],
   "source": [
    "df = pd.DataFrame({'time': ans})\n",
    "df.plot()"
   ]
  },
  {
   "cell_type": "code",
   "execution_count": null,
   "id": "ecc4c0e2",
   "metadata": {},
   "outputs": [],
   "source": []
  }
 ],
 "metadata": {
  "interpreter": {
   "hash": "e0c391e3966a56fdad5218290aa0b4e5ba8172c67166a5a9fb2af5a8db047a3c"
  },
  "kernelspec": {
   "display_name": "Python 3.9.7",
   "language": "python",
   "name": "python3"
  },
  "language_info": {
   "codemirror_mode": {
    "name": "ipython",
    "version": 3
   },
   "file_extension": ".py",
   "mimetype": "text/x-python",
   "name": "python",
   "nbconvert_exporter": "python",
   "pygments_lexer": "ipython3",
   "version": "3.9.7"
  }
 },
 "nbformat": 4,
 "nbformat_minor": 5
}
