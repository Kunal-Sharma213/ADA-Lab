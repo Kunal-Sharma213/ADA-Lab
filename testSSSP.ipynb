{
 "cells": [
  {
   "cell_type": "code",
   "execution_count": 1,
   "id": "3c43a533",
   "metadata": {},
   "outputs": [],
   "source": [
    "import numpy as np\n",
    "import random"
   ]
  },
  {
   "cell_type": "code",
   "execution_count": 9,
   "id": "c4428877",
   "metadata": {},
   "outputs": [],
   "source": [
    "def test():\n",
    "    test_cases = []\n",
    "    for i in range(2):\n",
    "        s = ''\n",
    "        n = random.randint(2,5)\n",
    "        s += str(n) + '\\n'\n",
    "        max_edges = n * (n-1)\n",
    "        random_edges = random.randint(1,max_edges)\n",
    "        for j in range (random_edges):\n",
    "            x,y,w = random.randint(0, n - 1), random.randint(0, n - 1), random.randint(1,100)\n",
    "            while(x == y):\n",
    "                y = random.randint(0,n-1)\n",
    "            s += str(x) + ' ' + str(y) + ' ' + str(w) + '\\n'\n",
    "            if(j == random_edges - 1):\n",
    "                s += '0' + '\\n'\n",
    "            else:\n",
    "                s += '1' + '\\n'\n",
    "        source_node = random.randint(0, n - 1)\n",
    "        s += str(source_node) + '\\n'\n",
    "        test_cases.append(s)\n",
    "    return test_cases"
   ]
  },
  {
   "cell_type": "code",
   "execution_count": 10,
   "id": "924b7dcd",
   "metadata": {},
   "outputs": [],
   "source": [
    "cases = test()\n",
    "with open('sssp.txt', 'w') as f:\n",
    "    for test in cases:\n",
    "        f.write(test)"
   ]
  },
  {
   "cell_type": "code",
   "execution_count": null,
   "id": "95145bd3",
   "metadata": {},
   "outputs": [],
   "source": []
  }
 ],
 "metadata": {
  "kernelspec": {
   "display_name": "Python 3.9 (env)",
   "language": "python",
   "name": "env"
  },
  "language_info": {
   "codemirror_mode": {
    "name": "ipython",
    "version": 3
   },
   "file_extension": ".py",
   "mimetype": "text/x-python",
   "name": "python",
   "nbconvert_exporter": "python",
   "pygments_lexer": "ipython3",
   "version": "3.9.7"
  }
 },
 "nbformat": 4,
 "nbformat_minor": 5
}
