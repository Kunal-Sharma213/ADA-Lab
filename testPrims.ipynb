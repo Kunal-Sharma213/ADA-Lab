{
 "cells": [
  {
   "cell_type": "code",
   "execution_count": 1,
   "metadata": {},
   "outputs": [],
   "source": [
    "from numpy.random import randint"
   ]
  },
  {
   "cell_type": "code",
   "execution_count": 9,
   "metadata": {},
   "outputs": [],
   "source": [
    "test_cases = []\n",
    "for i in range(0, 20):\n",
    "    s = ''\n",
    "    n = randint(1,20)\n",
    "    m = int((n * (n-1))/2)\n",
    "    s += str(n) + ' ' + str(m) + '\\n'\n",
    "    for i in range(m):\n",
    "        x = randint(1, n)\n",
    "        y = randint(1,n)\n",
    "        while y == x:\n",
    "            y = randint(1,n)\n",
    "        w = randint(1,200)\n",
    "        s += str(x) + ' ' + str(y) + ' ' + str(w) + '\\n'\n",
    "    test_cases.append(s)"
   ]
  },
  {
   "cell_type": "code",
   "execution_count": 10,
   "metadata": {},
   "outputs": [],
   "source": [
    "with open('prims.txt', 'w') as f:\n",
    "    for test in test_cases:\n",
    "        f.write(test)"
   ]
  },
  {
   "cell_type": "code",
   "execution_count": 16,
   "metadata": {},
   "outputs": [],
   "source": [
    "import pandas as pd\n",
    "ans = [750,\n",
    "3333,\n",
    "3416,\n",
    "5250,\n",
    "10084,\n",
    "10333,\n",
    "13542,\n",
    "22042,\n",
    "31167,\n",
    "39958,\n",
    "46792,\n",
    "47708,\n",
    "53625,\n",
    "61708,\n",
    "63458,\n",
    "70500,\n",
    "71875,\n",
    "85291,\n",
    "91959,\n",
    "]"
   ]
  },
  {
   "cell_type": "code",
   "execution_count": 19,
   "metadata": {},
   "outputs": [],
   "source": [
    "index = [0,\n",
    "6,\n",
    "6,\n",
    "10,\n",
    "21,\n",
    "21,\n",
    "28,\n",
    "45,\n",
    "55,\n",
    "78,\n",
    "91,\n",
    "91,\n",
    "105,\n",
    "120,\n",
    "120,\n",
    "136,\n",
    "136,\n",
    "153,\n",
    "171,\n",
    "]"
   ]
  },
  {
   "cell_type": "code",
   "execution_count": 20,
   "metadata": {},
   "outputs": [
    {
     "data": {
      "text/plain": [
       "<AxesSubplot:>"
      ]
     },
     "execution_count": 20,
     "metadata": {},
     "output_type": "execute_result"
    },
    {
     "data": {
      "image/png": "[encoded data removed]",
      "text/plain": [
       "<Figure size 432x288 with 1 Axes>"
      ]
     },
     "metadata": {
      "needs_background": "light"
     },
     "output_type": "display_data"
    }
   ],
   "source": [
    "df = pd.DataFrame({'time': ans}, index = index)\n",
    "df.plot()"
   ]
  },
  {
   "cell_type": "code",
   "execution_count": null,
   "metadata": {},
   "outputs": [],
   "source": []
  }
 ],
 "metadata": {
  "interpreter": {
   "hash": "e0c391e3966a56fdad5218290aa0b4e5ba8172c67166a5a9fb2af5a8db047a3c"
  },
  "kernelspec": {
   "display_name": "Python 3.9.7",
   "language": "python",
   "name": "python3"
  },
  "language_info": {
   "codemirror_mode": {
    "name": "ipython",
    "version": 3
   },
   "file_extension": ".py",
   "mimetype": "text/x-python",
   "name": "python",
   "nbconvert_exporter": "python",
   "pygments_lexer": "ipython3",
   "version": "3.9.7"
  },
  "orig_nbformat": 4
 },
 "nbformat": 4,
 "nbformat_minor": 2
}
