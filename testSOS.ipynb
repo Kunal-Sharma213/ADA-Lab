{
 "cells": [
  {
   "cell_type": "code",
   "execution_count": 2,
   "metadata": {},
   "outputs": [],
   "source": [
    "import numpy as np\n",
    "import pandas as pd\n",
    "import random\n"
   ]
  },
  {
   "cell_type": "code",
   "execution_count": 10,
   "metadata": {},
   "outputs": [],
   "source": [
    "test_cases = []\n",
    "for i in range(50):\n",
    "    s = ''\n",
    "    s += str(i + 1) + ' '\n",
    "    rSum = random.randint(10,100)\n",
    "    s += str(rSum) + '\\n'\n",
    "    randomlist = random.sample(range(10,1000), i + 1)\n",
    "    for x in randomlist:\n",
    "        s += str(x) + ' '\n",
    "    s += '\\n'\n",
    "    test_cases.append(s)\n"
   ]
  },
  {
   "cell_type": "code",
   "execution_count": 11,
   "metadata": {},
   "outputs": [],
   "source": [
    "\n",
    "with open('sos.txt', 'w') as f:\n",
    "    for test in test_cases:\n",
    "        f.write(test)"
   ]
  },
  {
   "cell_type": "code",
   "execution_count": 12,
   "metadata": {},
   "outputs": [],
   "source": [
    "ans= [834,\n",
    "292,\n",
    "208,\n",
    "250,\n",
    "292,\n",
    "333,\n",
    "334,\n",
    "333,\n",
    "375,\n",
    "416,\n",
    "500,\n",
    "416,\n",
    "375,\n",
    "542,\n",
    "458,\n",
    "584,\n",
    "500,\n",
    "625,\n",
    "917,\n",
    "583,\n",
    "625,\n",
    "1041,\n",
    "917,\n",
    "875,\n",
    "833,\n",
    "791,\n",
    "1125,\n",
    "1084,\n",
    "1417,\n",
    "1000,\n",
    "1167,\n",
    "1542,\n",
    "1584,\n",
    "1083,\n",
    "1167,\n",
    "1250,\n",
    "916,\n",
    "1250,\n",
    "1542,\n",
    "1333,\n",
    "1750,\n",
    "1125,\n",
    "1375,\n",
    "1583,\n",
    "1875,\n",
    "1791,\n",
    "1667,\n",
    "1375,\n",
    "1750,\n",
    "3791,\n",
    "]"
   ]
  },
  {
   "cell_type": "code",
   "execution_count": 14,
   "metadata": {},
   "outputs": [
    {
     "data": {
      "text/plain": [
       "<AxesSubplot:>"
      ]
     },
     "execution_count": 14,
     "metadata": {},
     "output_type": "execute_result"
    },
    {
     "data": {
      "image/png": "[encoded data removed]",
      "text/plain": [
       "<Figure size 432x288 with 1 Axes>"
      ]
     },
     "metadata": {
      "needs_background": "light"
     },
     "output_type": "display_data"
    }
   ],
   "source": [
    "df = pd.DataFrame({'time':ans})\n",
    "df.plot()"
   ]
  },
  {
   "cell_type": "code",
   "execution_count": null,
   "metadata": {},
   "outputs": [],
   "source": []
  }
 ],
 "metadata": {
  "interpreter": {
   "hash": "e0c391e3966a56fdad5218290aa0b4e5ba8172c67166a5a9fb2af5a8db047a3c"
  },
  "kernelspec": {
   "display_name": "Python 3.9.7",
   "language": "python",
   "name": "python3"
  },
  "language_info": {
   "codemirror_mode": {
    "name": "ipython",
    "version": 3
   },
   "file_extension": ".py",
   "mimetype": "text/x-python",
   "name": "python",
   "nbconvert_exporter": "python",
   "pygments_lexer": "ipython3",
   "version": "3.9.7"
  },
  "orig_nbformat": 4
 },
 "nbformat": 4,
 "nbformat_minor": 2
}
