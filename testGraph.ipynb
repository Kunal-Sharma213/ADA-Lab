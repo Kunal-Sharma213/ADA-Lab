{
 "cells": [
  {
   "cell_type": "code",
   "execution_count": 1,
   "metadata": {},
   "outputs": [],
   "source": [
    "from numpy.random import randint\n",
    "import pandas as pd"
   ]
  },
  {
   "cell_type": "code",
   "execution_count": 29,
   "metadata": {},
   "outputs": [],
   "source": [
    "test_cases = []\n",
    "prev = 1\n",
    "for i in range(0, 30):\n",
    "    s = ''\n",
    "    n = i + 3\n",
    "    m = int((n * (n-1))//2)\n",
    "    mm = prev + 1\n",
    "    prev = mm\n",
    "    c = randint(10,50)\n",
    "    s += str(n) + ' ' + str(mm) + ' ' + str(c) + '\\n'\n",
    "    for i in range(mm):\n",
    "        x = randint(0, n-1)\n",
    "        y = randint(0,n-1)\n",
    "        while y == x:\n",
    "            y = randint(0,n-1)\n",
    "        s += str(x) + ' ' + str(y) + '\\n'\n",
    "    test_cases.append(s)"
   ]
  },
  {
   "cell_type": "code",
   "execution_count": 30,
   "metadata": {},
   "outputs": [],
   "source": [
    "with open('gc.txt', 'w') as f:\n",
    "    for test in test_cases:\n",
    "        f.write(test)"
   ]
  },
  {
   "cell_type": "code",
   "execution_count": 26,
   "metadata": {},
   "outputs": [],
   "source": [
    "ans = [2292,\n",
    "2500,\n",
    "3125,\n",
    "3792,\n",
    "4334,\n",
    "5167,\n",
    "6291,\n",
    "6041,\n",
    "9166,\n",
    "8750,\n",
    "11250,\n",
    "10291,\n",
    "9625,\n",
    "15084,\n",
    "17125,\n",
    "18167,\n",
    "20125,\n",
    "22958,\n",
    "21625,\n",
    "25542,\n",
    "28458,\n",
    "24208,\n",
    "28167,\n",
    "29417,\n",
    "29583,\n",
    "35125,\n",
    "30417,\n",
    "23667,\n",
    "33333,\n",
    "39250,\n",
    "]"
   ]
  },
  {
   "cell_type": "code",
   "execution_count": 27,
   "metadata": {},
   "outputs": [
    {
     "data": {
      "text/plain": [
       "<AxesSubplot:>"
      ]
     },
     "execution_count": 27,
     "metadata": {},
     "output_type": "execute_result"
    },
    {
     "data": {
      "image/png": "[encoded data removed]",
      "text/plain": [
       "<Figure size 432x288 with 1 Axes>"
      ]
     },
     "metadata": {
      "needs_background": "light"
     },
     "output_type": "display_data"
    }
   ],
   "source": [
    "df = pd.DataFrame({'time':ans})\n",
    "df.plot()"
   ]
  },
  {
   "cell_type": "code",
   "execution_count": null,
   "metadata": {},
   "outputs": [],
   "source": []
  }
 ],
 "metadata": {
  "interpreter": {
   "hash": "e0c391e3966a56fdad5218290aa0b4e5ba8172c67166a5a9fb2af5a8db047a3c"
  },
  "kernelspec": {
   "display_name": "Python 3.9.7",
   "language": "python",
   "name": "python3"
  },
  "language_info": {
   "codemirror_mode": {
    "name": "ipython",
    "version": 3
   },
   "file_extension": ".py",
   "mimetype": "text/x-python",
   "name": "python",
   "nbconvert_exporter": "python",
   "pygments_lexer": "ipython3",
   "version": "3.9.7"
  },
  "orig_nbformat": 4
 },
 "nbformat": 4,
 "nbformat_minor": 2
}
