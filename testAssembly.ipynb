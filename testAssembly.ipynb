{
 "cells": [
  {
   "cell_type": "code",
   "execution_count": 3,
   "metadata": {},
   "outputs": [],
   "source": [
    "import numpy as np\n",
    "import random\n",
    "import pandas as pd"
   ]
  },
  {
   "cell_type": "code",
   "execution_count": 4,
   "metadata": {},
   "outputs": [],
   "source": [
    "test_cases = []\n",
    "for i in range(10):\n",
    "    s = ''\n",
    "    s += str(i + 1) + '\\n'\n",
    "    randomlist = random.sample(range(50,70), i + 1)\n",
    "    for x in randomlist:\n",
    "        s += str(x) + ' '\n",
    "    s += '\\n'\n",
    "    randomlist = random.sample(range(50,70), i + 1)\n",
    "\n",
    "    for x in randomlist:\n",
    "        s += str(x) + ' '\n",
    "    s += '\\n'\n",
    "    randomlist = random.sample(range(50,70), i + 1)\n",
    "\n",
    "    for x in randomlist:\n",
    "        s += str(x) + ' '\n",
    "    s += '\\n'\n",
    "    randomlist = random.sample(range(50,70), i + 1)\n",
    "\n",
    "    for x in randomlist:\n",
    "        s += str(x) + ' '\n",
    "    s += '\\n'\n",
    "    randomlist = random.sample(range(50,70), i + 1)\n",
    "\n",
    "    for x in randomlist:\n",
    "        s += str(x) + ' '\n",
    "    s += '\\n'\n",
    "    randomlist = random.sample(range(50,70), i + 1)\n",
    "\n",
    "    for x in randomlist:\n",
    "        s += str(x) + ' '\n",
    "    s += '\\n'\n",
    "\n",
    "\n",
    "    test_cases.append(s)\n"
   ]
  },
  {
   "cell_type": "code",
   "execution_count": 5,
   "metadata": {},
   "outputs": [],
   "source": [
    "\n",
    "with open('assembly.txt', 'w') as f:\n",
    "    for test in test_cases:\n",
    "        f.write(test)"
   ]
  },
  {
   "cell_type": "code",
   "execution_count": 6,
   "metadata": {},
   "outputs": [],
   "source": [
    "ans_dp = [10750,\n",
    "11834,\n",
    "28833,\n",
    "22625,\n",
    "19167,\n",
    "18792,\n",
    "19042,\n",
    "18833,\n",
    "18875,\n",
    "18917,\n",
    "]"
   ]
  },
  {
   "cell_type": "code",
   "execution_count": 7,
   "metadata": {},
   "outputs": [
    {
     "data": {
      "text/plain": [
       "<AxesSubplot:>"
      ]
     },
     "execution_count": 7,
     "metadata": {},
     "output_type": "execute_result"
    },
    {
     "data": {
      "image/png": "[encoded data removed]",
      "text/plain": [
       "<Figure size 432x288 with 1 Axes>"
      ]
     },
     "metadata": {
      "needs_background": "light"
     },
     "output_type": "display_data"
    }
   ],
   "source": [
    "df = pd.DataFrame({'dp':ans_dp})\n",
    "df.plot()"
   ]
  },
  {
   "cell_type": "code",
   "execution_count": null,
   "metadata": {},
   "outputs": [],
   "source": []
  }
 ],
 "metadata": {
  "interpreter": {
   "hash": "e0c391e3966a56fdad5218290aa0b4e5ba8172c67166a5a9fb2af5a8db047a3c"
  },
  "kernelspec": {
   "display_name": "Python 3.9.7",
   "language": "python",
   "name": "python3"
  },
  "language_info": {
   "codemirror_mode": {
    "name": "ipython",
    "version": 3
   },
   "file_extension": ".py",
   "mimetype": "text/x-python",
   "name": "python",
   "nbconvert_exporter": "python",
   "pygments_lexer": "ipython3",
   "version": "3.9.7"
  },
  "orig_nbformat": 4
 },
 "nbformat": 4,
 "nbformat_minor": 2
}
