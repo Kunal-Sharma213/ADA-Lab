{
 "cells": [
  {
   "cell_type": "code",
   "execution_count": 1,
   "id": "b8ca1b2f",
   "metadata": {},
   "outputs": [],
   "source": [
    "def split(mat):\n",
    "    m = len(mat)\n",
    "    n = len(mat[0])\n",
    "    return mat[:m//2, :n//2], mat[:m//2, n//2:], mat[m//2:, :n//2], mat[m//2:, n//2:]"
   ]
  },
  {
   "cell_type": "code",
   "execution_count": 2,
   "id": "d992e844",
   "metadata": {},
   "outputs": [],
   "source": [
    "def strassen(mat_1, mat_2):\n",
    "    if(len(mat_1) == 1):\n",
    "        return mat_1 * mat_2\n",
    "    a11, a12, a21, a22 = split(mat_1)\n",
    "    b11, b12, b21, b22 = split(mat_2)\n",
    "    p = strassen(a11, b12 - b22)\n",
    "    q = strassen(a11 + a12, b22)\n",
    "    r = strassen(a21 + a22, b11)\n",
    "    s = strassen(a22, b21 - b11)\n",
    "    t = strassen(a11 + a22, b11 + b22)\n",
    "    u = strassen(a12 - a22, b21 + b22)\n",
    "    v = strassen(a11 - a21, b11 + b12)\n",
    "\n",
    "    c11 = t + s - q + u\n",
    "    c12 = p + q\n",
    "    c21 = r + s\n",
    "    c22 = p + t - r - v\n",
    "    return np.vstack((np.hstack((c11, c12)), np.hstack((c21, c22))))\n"
   ]
  },
  {
   "cell_type": "code",
   "execution_count": 3,
   "id": "0b2424e2",
   "metadata": {},
   "outputs": [],
   "source": [
    "import numpy as np"
   ]
  },
  {
   "cell_type": "code",
   "execution_count": null,
   "id": "71ee111d",
   "metadata": {},
   "outputs": [],
   "source": []
  },
  {
   "cell_type": "code",
   "execution_count": null,
   "id": "0c25f0b7",
   "metadata": {},
   "outputs": [],
   "source": []
  },
  {
   "cell_type": "code",
   "execution_count": 4,
   "id": "202fad40",
   "metadata": {},
   "outputs": [],
   "source": [
    "def matrixmul(m1, m2):\n",
    "    r , c = m1.shape[1], m2.shape[0]\n",
    "    res = np.zeros((r,c))\n",
    "    for i in range(m1.shape[0]):\n",
    "        for j in range(m2.shape[1]):\n",
    "            for k in range(m2.shape[0]):\n",
    "                res[i][j] += (m1[i][k] * m2[k][j])\n",
    "    return res"
   ]
  },
  {
   "cell_type": "code",
   "execution_count": 5,
   "id": "f57e8962",
   "metadata": {},
   "outputs": [
    {
     "name": "stdout",
     "output_type": "stream",
     "text": [
      "[[14 14 14 14]\n",
      " [28 28 28 28]\n",
      " [42 42 42 42]\n",
      " [56 56 56 56]]\n"
     ]
    }
   ],
   "source": [
    "mat_1 =np.array([[1,1,1,1],[2,2,2,2],[3,3,3,3],[4,4,4,4]])\n",
    "mat_2 = np.array([[2,2,2,2],[3,3,3,3],[4,4,4,4],[5,5,5,5]])\n",
    "print(strassen(mat_1, mat_2))"
   ]
  },
  {
   "cell_type": "code",
   "execution_count": 6,
   "id": "40ecd5cd",
   "metadata": {},
   "outputs": [
    {
     "name": "stdout",
     "output_type": "stream",
     "text": [
      "[[14. 14. 14. 14.]\n",
      " [28. 28. 28. 28.]\n",
      " [42. 42. 42. 42.]\n",
      " [56. 56. 56. 56.]]\n"
     ]
    }
   ],
   "source": [
    "mat_1 =np.array([[1,1,1,1],[2,2,2,2],[3,3,3,3],[4,4,4,4]])\n",
    "mat_2 = np.array([[2,2,2,2],[3,3,3,3],[4,4,4,4],[5,5,5,5]])\n",
    "print(matrixmul(mat_1, mat_2))"
   ]
  },
  {
   "cell_type": "code",
   "execution_count": null,
   "id": "8f00c923",
   "metadata": {},
   "outputs": [],
   "source": [
    "import timeit\n",
    "import time\n",
    "import pandas as pd\n"
   ]
  },
  {
   "cell_type": "code",
   "execution_count": 8,
   "id": "2cf335d5",
   "metadata": {},
   "outputs": [
    {
     "ename": "KeyboardInterrupt",
     "evalue": "",
     "output_type": "error",
     "traceback": [
      "\u001b[0;31m---------------------------------------------------------------------------\u001b[0m",
      "\u001b[0;31mKeyboardInterrupt\u001b[0m                         Traceback (most recent call last)",
      "\u001b[0;32m/var/folders/p9/7r6fhq_d4xl741jzbq_44tfm0000gn/T/ipykernel_21583/1892550364.py\u001b[0m in \u001b[0;36m<module>\u001b[0;34m\u001b[0m\n\u001b[1;32m      8\u001b[0m     \u001b[0mans\u001b[0m\u001b[0;34m[\u001b[0m\u001b[0;34m'stressan_time'\u001b[0m\u001b[0;34m]\u001b[0m\u001b[0;34m.\u001b[0m\u001b[0mappend\u001b[0m\u001b[0;34m(\u001b[0m\u001b[0mend\u001b[0m\u001b[0;34m-\u001b[0m\u001b[0mstart\u001b[0m\u001b[0;34m)\u001b[0m\u001b[0;34m\u001b[0m\u001b[0;34m\u001b[0m\u001b[0m\n\u001b[1;32m      9\u001b[0m     \u001b[0mstart\u001b[0m \u001b[0;34m=\u001b[0m \u001b[0mtime\u001b[0m\u001b[0;34m.\u001b[0m\u001b[0mtime_ns\u001b[0m\u001b[0;34m(\u001b[0m\u001b[0;34m)\u001b[0m\u001b[0;34m\u001b[0m\u001b[0;34m\u001b[0m\u001b[0m\n\u001b[0;32m---> 10\u001b[0;31m     \u001b[0mmatrixmul\u001b[0m\u001b[0;34m(\u001b[0m\u001b[0mmat_1\u001b[0m\u001b[0;34m,\u001b[0m\u001b[0mmat_2\u001b[0m\u001b[0;34m)\u001b[0m\u001b[0;34m\u001b[0m\u001b[0;34m\u001b[0m\u001b[0m\n\u001b[0m\u001b[1;32m     11\u001b[0m     \u001b[0mend\u001b[0m \u001b[0;34m=\u001b[0m \u001b[0mtime\u001b[0m\u001b[0;34m.\u001b[0m\u001b[0mtime_ns\u001b[0m\u001b[0;34m(\u001b[0m\u001b[0;34m)\u001b[0m\u001b[0;34m\u001b[0m\u001b[0;34m\u001b[0m\u001b[0m\n\u001b[1;32m     12\u001b[0m     \u001b[0mans\u001b[0m\u001b[0;34m[\u001b[0m\u001b[0;34m'matrix_mul_time'\u001b[0m\u001b[0;34m]\u001b[0m\u001b[0;34m.\u001b[0m\u001b[0mappend\u001b[0m\u001b[0;34m(\u001b[0m\u001b[0mend\u001b[0m\u001b[0;34m-\u001b[0m\u001b[0mstart\u001b[0m\u001b[0;34m)\u001b[0m\u001b[0;34m\u001b[0m\u001b[0;34m\u001b[0m\u001b[0m\n",
      "\u001b[0;32m/var/folders/p9/7r6fhq_d4xl741jzbq_44tfm0000gn/T/ipykernel_21583/2121150243.py\u001b[0m in \u001b[0;36mmatrixmul\u001b[0;34m(m1, m2)\u001b[0m\n\u001b[1;32m      5\u001b[0m         \u001b[0;32mfor\u001b[0m \u001b[0mj\u001b[0m \u001b[0;32min\u001b[0m \u001b[0mrange\u001b[0m\u001b[0;34m(\u001b[0m\u001b[0mm2\u001b[0m\u001b[0;34m.\u001b[0m\u001b[0mshape\u001b[0m\u001b[0;34m[\u001b[0m\u001b[0;36m1\u001b[0m\u001b[0;34m]\u001b[0m\u001b[0;34m)\u001b[0m\u001b[0;34m:\u001b[0m\u001b[0;34m\u001b[0m\u001b[0;34m\u001b[0m\u001b[0m\n\u001b[1;32m      6\u001b[0m             \u001b[0;32mfor\u001b[0m \u001b[0mk\u001b[0m \u001b[0;32min\u001b[0m \u001b[0mrange\u001b[0m\u001b[0;34m(\u001b[0m\u001b[0mm2\u001b[0m\u001b[0;34m.\u001b[0m\u001b[0mshape\u001b[0m\u001b[0;34m[\u001b[0m\u001b[0;36m0\u001b[0m\u001b[0;34m]\u001b[0m\u001b[0;34m)\u001b[0m\u001b[0;34m:\u001b[0m\u001b[0;34m\u001b[0m\u001b[0;34m\u001b[0m\u001b[0m\n\u001b[0;32m----> 7\u001b[0;31m                 \u001b[0mres\u001b[0m\u001b[0;34m[\u001b[0m\u001b[0mi\u001b[0m\u001b[0;34m]\u001b[0m\u001b[0;34m[\u001b[0m\u001b[0mj\u001b[0m\u001b[0;34m]\u001b[0m \u001b[0;34m+=\u001b[0m \u001b[0;34m(\u001b[0m\u001b[0mm1\u001b[0m\u001b[0;34m[\u001b[0m\u001b[0mi\u001b[0m\u001b[0;34m]\u001b[0m\u001b[0;34m[\u001b[0m\u001b[0mk\u001b[0m\u001b[0;34m]\u001b[0m \u001b[0;34m*\u001b[0m \u001b[0mm2\u001b[0m\u001b[0;34m[\u001b[0m\u001b[0mk\u001b[0m\u001b[0;34m]\u001b[0m\u001b[0;34m[\u001b[0m\u001b[0mj\u001b[0m\u001b[0;34m]\u001b[0m\u001b[0;34m)\u001b[0m\u001b[0;34m\u001b[0m\u001b[0;34m\u001b[0m\u001b[0m\n\u001b[0m\u001b[1;32m      8\u001b[0m     \u001b[0;32mreturn\u001b[0m \u001b[0mres\u001b[0m\u001b[0;34m\u001b[0m\u001b[0;34m\u001b[0m\u001b[0m\n",
      "\u001b[0;31mKeyboardInterrupt\u001b[0m: "
     ]
    }
   ],
   "source": [
    "ans = {'stressan_time':[], 'matrix_mul_time': []}\n",
    "for i in range(10):\n",
    "    mat_1 = np.random.rand(2**(i+1), 2**(i+1))\n",
    "    mat_2 = np.random.rand(2**(i+1), 2**(i+1))\n",
    "    start = time.time_ns()\n",
    "    strassen(mat_1,mat_2)\n",
    "    end = time.time_ns()\n",
    "    ans['stressan_time'].append(end-start)\n",
    "    start = time.time_ns()\n",
    "    matrixmul(mat_1,mat_2)\n",
    "    end = time.time_ns()\n",
    "    ans['matrix_mul_time'].append(end-start)"
   ]
  },
  {
   "cell_type": "code",
   "execution_count": null,
   "id": "15d060de",
   "metadata": {},
   "outputs": [],
   "source": [
    "# 2nd run\n",
    "strassen_ans = ans.copy()\n"
   ]
  },
  {
   "cell_type": "code",
   "execution_count": null,
   "id": "0db0054e",
   "metadata": {},
   "outputs": [],
   "source": []
  },
  {
   "cell_type": "code",
   "execution_count": null,
   "id": "3a63c4fc",
   "metadata": {},
   "outputs": [],
   "source": []
  },
  {
   "cell_type": "code",
   "execution_count": 20,
   "id": "c19030b2",
   "metadata": {},
   "outputs": [],
   "source": [
    "strassen_ans = ans.copy()"
   ]
  },
  {
   "cell_type": "code",
   "execution_count": 21,
   "id": "8f998754",
   "metadata": {},
   "outputs": [],
   "source": []
  },
  {
   "cell_type": "code",
   "execution_count": 30,
   "id": "de3cfac7",
   "metadata": {},
   "outputs": [],
   "source": [
    "df = pd.DataFrame(ans)"
   ]
  },
  {
   "cell_type": "code",
   "execution_count": 32,
   "id": "9a74858a",
   "metadata": {},
   "outputs": [
    {
     "data": {
      "text/plain": [
       "<AxesSubplot:>"
      ]
     },
     "execution_count": 32,
     "metadata": {},
     "output_type": "execute_result"
    },
    {
     "data": {
      "image/png": "[encoded data removed]",
      "text/plain": [
       "<Figure size 432x288 with 1 Axes>"
      ]
     },
     "metadata": {
      "needs_background": "light"
     },
     "output_type": "display_data"
    }
   ],
   "source": [
    "df.plot()"
   ]
  },
  {
   "cell_type": "code",
   "execution_count": 31,
   "id": "126f4337",
   "metadata": {},
   "outputs": [
    {
     "data": {
      "text/html": [
       "<div>\n",
       "<style scoped>\n",
       "    .dataframe tbody tr th:only-of-type {\n",
       "        vertical-align: middle;\n",
       "    }\n",
       "\n",
       "    .dataframe tbody tr th {\n",
       "        vertical-align: top;\n",
       "    }\n",
       "\n",
       "    .dataframe thead th {\n",
       "        text-align: right;\n",
       "    }\n",
       "</style>\n",
       "<table border=\"1\" class=\"dataframe\">\n",
       "  <thead>\n",
       "    <tr style=\"text-align: right;\">\n",
       "      <th></th>\n",
       "      <th>stressan_time</th>\n",
       "      <th>matrix_mul_time</th>\n",
       "    </tr>\n",
       "  </thead>\n",
       "  <tbody>\n",
       "    <tr>\n",
       "      <th>0</th>\n",
       "      <td>352000</td>\n",
       "      <td>76000</td>\n",
       "    </tr>\n",
       "    <tr>\n",
       "      <th>1</th>\n",
       "      <td>893000</td>\n",
       "      <td>182000</td>\n",
       "    </tr>\n",
       "    <tr>\n",
       "      <th>2</th>\n",
       "      <td>3883000</td>\n",
       "      <td>856000</td>\n",
       "    </tr>\n",
       "    <tr>\n",
       "      <th>3</th>\n",
       "      <td>15375000</td>\n",
       "      <td>4408000</td>\n",
       "    </tr>\n",
       "    <tr>\n",
       "      <th>4</th>\n",
       "      <td>60286000</td>\n",
       "      <td>20154000</td>\n",
       "    </tr>\n",
       "    <tr>\n",
       "      <th>5</th>\n",
       "      <td>292918000</td>\n",
       "      <td>149373000</td>\n",
       "    </tr>\n",
       "    <tr>\n",
       "      <th>6</th>\n",
       "      <td>2050312000</td>\n",
       "      <td>1216795000</td>\n",
       "    </tr>\n",
       "    <tr>\n",
       "      <th>7</th>\n",
       "      <td>14346779000</td>\n",
       "      <td>9654632000</td>\n",
       "    </tr>\n",
       "  </tbody>\n",
       "</table>\n",
       "</div>"
      ],
      "text/plain": [
       "   stressan_time  matrix_mul_time\n",
       "0         352000            76000\n",
       "1         893000           182000\n",
       "2        3883000           856000\n",
       "3       15375000          4408000\n",
       "4       60286000         20154000\n",
       "5      292918000        149373000\n",
       "6     2050312000       1216795000\n",
       "7    14346779000       9654632000"
      ]
     },
     "execution_count": 31,
     "metadata": {},
     "output_type": "execute_result"
    }
   ],
   "source": [
    "df"
   ]
  },
  {
   "cell_type": "code",
   "execution_count": null,
   "id": "bd90cabe",
   "metadata": {},
   "outputs": [],
   "source": []
  }
 ],
 "metadata": {
  "interpreter": {
   "hash": "e0c391e3966a56fdad5218290aa0b4e5ba8172c67166a5a9fb2af5a8db047a3c"
  },
  "kernelspec": {
   "display_name": "Python 3.9 (env)",
   "language": "python",
   "name": "env"
  },
  "language_info": {
   "codemirror_mode": {
    "name": "ipython",
    "version": 3
   },
   "file_extension": ".py",
   "mimetype": "text/x-python",
   "name": "python",
   "nbconvert_exporter": "python",
   "pygments_lexer": "ipython3",
   "version": "3.9.7"
  }
 },
 "nbformat": 4,
 "nbformat_minor": 5
}
