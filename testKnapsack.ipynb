{
 "cells": [
  {
   "cell_type": "code",
   "execution_count": 1,
   "metadata": {},
   "outputs": [],
   "source": [
    "import numpy as np\n",
    "import pandas as pd"
   ]
  },
  {
   "cell_type": "code",
   "execution_count": 2,
   "metadata": {},
   "outputs": [],
   "source": [
    "ans_dp = [10291,\n",
    "7500,\n",
    "11000,\n",
    "3000,\n",
    "44333,\n",
    "57250,\n",
    "40166,\n",
    "46792,\n",
    "15208,\n",
    "90292,\n",
    "82875,\n",
    "44958,\n",
    "57417,\n",
    "30667,\n",
    "117750,\n",
    "92625,\n",
    "126708,\n",
    "153500,\n",
    "41958,\n",
    "69292,\n",
    "138500,\n",
    "152834,\n",
    "22291,\n",
    "138750,\n",
    "33625,\n",
    "164792,\n",
    "232000,\n",
    "162834,\n",
    "344000,\n",
    "20250,\n",
    "191000,\n",
    "57417,\n",
    "21916,\n",
    "306667,\n",
    "42000,\n",
    "27500,\n",
    "203125,\n",
    "291875,\n",
    "292250,\n",
    "196375,\n",
    "316625,\n",
    "53333,\n",
    "348125,\n",
    "267916,\n",
    "454750,\n",
    "124750,\n",
    "325791,\n",
    "212250,\n",
    "311333,\n",
    "246542,\n",
    "]"
   ]
  },
  {
   "cell_type": "code",
   "execution_count": 7,
   "metadata": {},
   "outputs": [],
   "source": [
    "ans_rec = [4542,\n",
    "9166,\n",
    "21250,\n",
    "28125,\n",
    "49667,\n",
    "71458,\n",
    "88584,\n",
    "159375,\n",
    "222208,\n",
    "267042,\n",
    "435459,\n",
    "616125,\n",
    "689041,\n",
    "431583,\n",
    "927583,\n",
    "1132333,\n",
    "4013042,\n",
    "4279625,\n",
    "2012333,\n",
    "1469167,\n",
    "1530959,\n",
    "1765625,\n",
    "5950292,\n",
    "9177375,\n",
    "4701334,\n",
    "4926959,\n",
    "30252208,\n",
    "29043708,\n",
    "6447375,\n",
    "17938625,\n",
    "17567250,\n",
    "9745333,\n",
    "2400542,\n",
    "33394708,\n",
    "21534792,\n",
    "7037416,\n",
    "34018375,\n",
    "25981417,\n",
    "60623458,\n",
    "145075667,\n",
    "88518458,\n",
    "52000917,\n",
    "31510917,\n",
    "48638875,\n",
    "55178750,\n",
    "43687125,\n",
    "36617459,\n",
    "27402916,\n",
    "763652416,\n",
    "963652416,\n",
    "]"
   ]
  },
  {
   "cell_type": "code",
   "execution_count": 8,
   "metadata": {},
   "outputs": [
    {
     "data": {
      "text/plain": [
       "<AxesSubplot:>"
      ]
     },
     "execution_count": 8,
     "metadata": {},
     "output_type": "execute_result"
    },
    {
     "data": {
      "image/png": "[encoded data removed]",
      "text/plain": [
       "<Figure size 432x288 with 1 Axes>"
      ]
     },
     "metadata": {
      "needs_background": "light"
     },
     "output_type": "display_data"
    }
   ],
   "source": [
    "\n",
    "df = pd.DataFrame({'dp': ans_dp, 'rec': ans_rec})\n",
    "df.plot()"
   ]
  },
  {
   "cell_type": "code",
   "execution_count": null,
   "metadata": {},
   "outputs": [],
   "source": []
  }
 ],
 "metadata": {
  "interpreter": {
   "hash": "e0c391e3966a56fdad5218290aa0b4e5ba8172c67166a5a9fb2af5a8db047a3c"
  },
  "kernelspec": {
   "display_name": "Python 3.9.7",
   "language": "python",
   "name": "python3"
  },
  "language_info": {
   "codemirror_mode": {
    "name": "ipython",
    "version": 3
   },
   "file_extension": ".py",
   "mimetype": "text/x-python",
   "name": "python",
   "nbconvert_exporter": "python",
   "pygments_lexer": "ipython3",
   "version": "3.9.7"
  },
  "orig_nbformat": 4
 },
 "nbformat": 4,
 "nbformat_minor": 2
}
