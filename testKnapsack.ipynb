{
 "cells": [
  {
   "cell_type": "code",
   "execution_count": 102,
   "id": "188e3fa2",
   "metadata": {},
   "outputs": [],
   "source": [
    "import numpy as np\n",
    "import random"
   ]
  },
  {
   "cell_type": "code",
   "execution_count": 103,
   "id": "45f9611c",
   "metadata": {},
   "outputs": [],
   "source": [
    "def test():\n",
    "    test_cases = []\n",
    "    for i in range(1, 50):\n",
    "\n",
    "        n = i\n",
    "        s = ''\n",
    "        s += str(n) + '\\n'\n",
    "        max_weight = random.randint(1, 1000)\n",
    "        s += str(max_weight) + '\\n'\n",
    "        for i in range(n):\n",
    "            w, p = random.randint(1, max_weight), random.randint(1, 10**5)\n",
    "            s += str(w) + ' ' + str(p) + '\\n';\n",
    "        test_cases.append(s)\n",
    "    return test_cases"
   ]
  },
  {
   "cell_type": "code",
   "execution_count": 104,
   "id": "02d72481",
   "metadata": {},
   "outputs": [],
   "source": [
    "test_cases = test()\n",
    "with open('data.txt', 'w') as f:\n",
    "    for test in test_cases:\n",
    "        f.write(test)"
   ]
  },
  {
   "cell_type": "code",
   "execution_count": 105,
   "id": "d9ac0bcf",
   "metadata": {},
   "outputs": [],
   "source": [
    "import pandas as pd"
   ]
  },
  {
   "cell_type": "code",
   "execution_count": 106,
   "id": "d73613ac",
   "metadata": {},
   "outputs": [],
   "source": []
  },
  {
   "cell_type": "code",
   "execution_count": 97,
   "id": "6fb3a35e",
   "metadata": {},
   "outputs": [],
   "source": []
  },
  {
   "cell_type": "code",
   "execution_count": 98,
   "id": "f95186e3",
   "metadata": {},
   "outputs": [
    {
     "data": {
      "text/html": [
       "<div>\n",
       "<style scoped>\n",
       "    .dataframe tbody tr th:only-of-type {\n",
       "        vertical-align: middle;\n",
       "    }\n",
       "\n",
       "    .dataframe tbody tr th {\n",
       "        vertical-align: top;\n",
       "    }\n",
       "\n",
       "    .dataframe thead th {\n",
       "        text-align: right;\n",
       "    }\n",
       "</style>\n",
       "<table border=\"1\" class=\"dataframe\">\n",
       "  <thead>\n",
       "    <tr style=\"text-align: right;\">\n",
       "      <th></th>\n",
       "      <th>time</th>\n",
       "    </tr>\n",
       "  </thead>\n",
       "  <tbody>\n",
       "    <tr>\n",
       "      <th>1</th>\n",
       "      <td>10792</td>\n",
       "    </tr>\n",
       "    <tr>\n",
       "      <th>2</th>\n",
       "      <td>3083</td>\n",
       "    </tr>\n",
       "    <tr>\n",
       "      <th>3</th>\n",
       "      <td>2416</td>\n",
       "    </tr>\n",
       "    <tr>\n",
       "      <th>4</th>\n",
       "      <td>2167</td>\n",
       "    </tr>\n",
       "    <tr>\n",
       "      <th>5</th>\n",
       "      <td>1958</td>\n",
       "    </tr>\n",
       "  </tbody>\n",
       "</table>\n",
       "</div>"
      ],
      "text/plain": [
       "    time\n",
       "1  10792\n",
       "2   3083\n",
       "3   2416\n",
       "4   2167\n",
       "5   1958"
      ]
     },
     "execution_count": 98,
     "metadata": {},
     "output_type": "execute_result"
    }
   ],
   "source": [
    "df.head()"
   ]
  },
  {
   "cell_type": "code",
   "execution_count": 99,
   "id": "7e2f278e",
   "metadata": {},
   "outputs": [
    {
     "data": {
      "text/plain": [
       "<AxesSubplot:>"
      ]
     },
     "execution_count": 99,
     "metadata": {},
     "output_type": "execute_result"
    },
    {
     "data": {
      "image/png": "[encoded data removed]",
      "text/plain": [
       "<Figure size 432x288 with 1 Axes>"
      ]
     },
     "metadata": {
      "needs_background": "light"
     },
     "output_type": "display_data"
    }
   ],
   "source": [
    "df[1:].plot()"
   ]
  },
  {
   "cell_type": "code",
   "execution_count": 79,
   "id": "7fd27cbd",
   "metadata": {},
   "outputs": [],
   "source": [
    "ans = filter(lambda x : x < 7500, ans)"
   ]
  },
  {
   "cell_type": "code",
   "execution_count": 80,
   "id": "5fa2c84d",
   "metadata": {},
   "outputs": [],
   "source": [
    "ans = list(ans)"
   ]
  },
  {
   "cell_type": "code",
   "execution_count": 73,
   "id": "433f7de2",
   "metadata": {},
   "outputs": [],
   "source": [
    "ans = sorted(ans)"
   ]
  },
  {
   "cell_type": "code",
   "execution_count": 74,
   "id": "f1c2beb0",
   "metadata": {},
   "outputs": [
    {
     "data": {
      "text/plain": [
       "[2875,\n",
       " 3083,\n",
       " 3209,\n",
       " 3584,\n",
       " 3667,\n",
       " 4000,\n",
       " 4291,\n",
       " 4291,\n",
       " 4375,\n",
       " 4458,\n",
       " 4459,\n",
       " 4750,\n",
       " 4958,\n",
       " 5167,\n",
       " 5292,\n",
       " 5458,\n",
       " 5708,\n",
       " 5958,\n",
       " 6042,\n",
       " 6542,\n",
       " 6625,\n",
       " 7167,\n",
       " 7250,\n",
       " 7292]"
      ]
     },
     "execution_count": 74,
     "metadata": {},
     "output_type": "execute_result"
    }
   ],
   "source": [
    "ans"
   ]
  },
  {
   "cell_type": "code",
   "execution_count": 101,
   "id": "11aa7c60",
   "metadata": {},
   "outputs": [],
   "source": [
    "### sorted by profit"
   ]
  },
  {
   "cell_type": "code",
   "execution_count": 107,
   "id": "c9d7b248",
   "metadata": {},
   "outputs": [],
   "source": [
    "ans = [13834,\n",
    "4166,\n",
    "4541,\n",
    "4333,\n",
    "3417,\n",
    "5208,\n",
    "4209,\n",
    "4583,\n",
    "9250,\n",
    "4084,\n",
    "5125,\n",
    "5208,\n",
    "9708,\n",
    "5417,\n",
    "5292,\n",
    "4666,\n",
    "11667,\n",
    "5167,\n",
    "10917,\n",
    "6250,\n",
    "6500,\n",
    "6708,\n",
    "10583,\n",
    "6542,\n",
    "12250,\n",
    "7708,\n",
    "12458,\n",
    "7416,\n",
    "9667,\n",
    "27625,\n",
    "8541,\n",
    "8375,\n",
    "11416,\n",
    "8875,\n",
    "8500,\n",
    "7958,\n",
    "8125,\n",
    "9583,\n",
    "9000,\n",
    "9625,\n",
    "8541,\n",
    "10792,\n",
    "10833,\n",
    "10083,\n",
    "9375,\n",
    "9416,\n",
    "10250,\n",
    "9125,\n",
    "10209,\n",
    "7750,\n",
    "]"
   ]
  },
  {
   "cell_type": "code",
   "execution_count": 108,
   "id": "d0b89cd3",
   "metadata": {},
   "outputs": [
    {
     "data": {
      "text/plain": [
       "<AxesSubplot:>"
      ]
     },
     "execution_count": 108,
     "metadata": {},
     "output_type": "execute_result"
    },
    {
     "data": {
      "image/png": "[encoded data removed]",
      "text/plain": [
       "<Figure size 432x288 with 1 Axes>"
      ]
     },
     "metadata": {
      "needs_background": "light"
     },
     "output_type": "display_data"
    }
   ],
   "source": [
    "df = pd.DataFrame({'time': ans}, index = [x for x in range(1, 51)])\n",
    "df.head()\n",
    "df.plot()"
   ]
  },
  {
   "cell_type": "code",
   "execution_count": 109,
   "id": "1e6c250e",
   "metadata": {},
   "outputs": [],
   "source": [
    "#sorted by weight"
   ]
  },
  {
   "cell_type": "code",
   "execution_count": 110,
   "id": "9f5cd60f",
   "metadata": {},
   "outputs": [],
   "source": [
    "ans = [16625,\n",
    "4125,\n",
    "4750,\n",
    "4375,\n",
    "3417,\n",
    "5583,\n",
    "3916,\n",
    "4500,\n",
    "8750,\n",
    "3958,\n",
    "5208,\n",
    "5083,\n",
    "10541,\n",
    "5417,\n",
    "5208,\n",
    "5042,\n",
    "16167,\n",
    "5208,\n",
    "11541,\n",
    "6042,\n",
    "6541,\n",
    "6750,\n",
    "11833,\n",
    "6375,\n",
    "11333,\n",
    "7291,\n",
    "10917,\n",
    "8083,\n",
    "11416,\n",
    "7000,\n",
    "8459,\n",
    "8708,\n",
    "11166,\n",
    "8542,\n",
    "8166,\n",
    "21167,\n",
    "8959,\n",
    "10042,\n",
    "8750,\n",
    "9125,\n",
    "8500,\n",
    "9792,\n",
    "10667,\n",
    "9541,\n",
    "9333,\n",
    "9125,\n",
    "10333,\n",
    "9500,\n",
    "9875,\n",
    "4833,\n",
    "]"
   ]
  },
  {
   "cell_type": "code",
   "execution_count": 111,
   "id": "5d54db15",
   "metadata": {},
   "outputs": [
    {
     "data": {
      "text/plain": [
       "<AxesSubplot:>"
      ]
     },
     "execution_count": 111,
     "metadata": {},
     "output_type": "execute_result"
    },
    {
     "data": {
      "image/png": "[encoded data removed]",
      "text/plain": [
       "<Figure size 432x288 with 1 Axes>"
      ]
     },
     "metadata": {
      "needs_background": "light"
     },
     "output_type": "display_data"
    }
   ],
   "source": [
    "df = pd.DataFrame({'time': ans}, index = [x for x in range(1, 51)])\n",
    "df.head()\n",
    "df.plot()"
   ]
  },
  {
   "cell_type": "code",
   "execution_count": 112,
   "id": "d08f670e",
   "metadata": {},
   "outputs": [],
   "source": [
    "#sorted by profit per unit weight"
   ]
  },
  {
   "cell_type": "code",
   "execution_count": 113,
   "id": "3fd31692",
   "metadata": {},
   "outputs": [],
   "source": [
    "ans = [21083,\n",
    "4125,\n",
    "4500,\n",
    "4333,\n",
    "4500,\n",
    "5750,\n",
    "4333,\n",
    "4750,\n",
    "12625,\n",
    "4125,\n",
    "6250,\n",
    "5083,\n",
    "10375,\n",
    "5750,\n",
    "6167,\n",
    "7250,\n",
    "11875,\n",
    "7875,\n",
    "13792,\n",
    "7459,\n",
    "6958,\n",
    "8416,\n",
    "13375,\n",
    "7500,\n",
    "13750,\n",
    "8667,\n",
    "21500,\n",
    "9375,\n",
    "16708,\n",
    "9333,\n",
    "11750,\n",
    "10791,\n",
    "13167,\n",
    "9958,\n",
    "9750,\n",
    "9750,\n",
    "9584,\n",
    "10709,\n",
    "10042,\n",
    "10792,\n",
    "10625,\n",
    "10667,\n",
    "12917,\n",
    "11583,\n",
    "12958,\n",
    "13208,\n",
    "12583,\n",
    "13666,\n",
    "13750,\n",
    "5292,\n",
    "]"
   ]
  },
  {
   "cell_type": "code",
   "execution_count": 114,
   "id": "b6a1a296",
   "metadata": {},
   "outputs": [
    {
     "data": {
      "text/plain": [
       "<AxesSubplot:>"
      ]
     },
     "execution_count": 114,
     "metadata": {},
     "output_type": "execute_result"
    },
    {
     "data": {
      "image/png": "[encoded data removed]",
      "text/plain": [
       "<Figure size 432x288 with 1 Axes>"
      ]
     },
     "metadata": {
      "needs_background": "light"
     },
     "output_type": "display_data"
    }
   ],
   "source": [
    "df = pd.DataFrame({'time': ans}, index = [x for x in range(1, 51)])\n",
    "df.head()\n",
    "df.plot()"
   ]
  },
  {
   "cell_type": "code",
   "execution_count": null,
   "id": "fbaf1de6",
   "metadata": {},
   "outputs": [],
   "source": []
  }
 ],
 "metadata": {
  "kernelspec": {
   "display_name": "Python 3.9 (env)",
   "language": "python",
   "name": "env"
  },
  "language_info": {
   "codemirror_mode": {
    "name": "ipython",
    "version": 3
   },
   "file_extension": ".py",
   "mimetype": "text/x-python",
   "name": "python",
   "nbconvert_exporter": "python",
   "pygments_lexer": "ipython3",
   "version": "3.9.7"
  }
 },
 "nbformat": 4,
 "nbformat_minor": 5
}
